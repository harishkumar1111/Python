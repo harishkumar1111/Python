{
  "nbformat": 4,
  "nbformat_minor": 0,
  "metadata": {
    "colab": {
      "name": "Indexing_Slicing_If-else_example.ipynb",
      "provenance": [],
      "collapsed_sections": []
    },
    "kernelspec": {
      "name": "python3",
      "display_name": "Python 3"
    }
  },
  "cells": [
    {
      "cell_type": "markdown",
      "metadata": {
        "id": "R7-s6N_PabXf"
      },
      "source": [
        "##Indexing & Slicing"
      ]
    },
    {
      "cell_type": "code",
      "metadata": {
        "id": "beDtBsX8HdCn"
      },
      "source": [
        "name = 'South America'"
      ],
      "execution_count": null,
      "outputs": []
    },
    {
      "cell_type": "markdown",
      "metadata": {
        "id": "nA_tr4HuYbW_"
      },
      "source": [
        "Write sytanx to fetch 'A'"
      ]
    },
    {
      "cell_type": "code",
      "metadata": {
        "colab": {
          "base_uri": "https://localhost:8080/",
          "height": 35
        },
        "id": "wWfBddrSQO8I",
        "outputId": "532d60bf-9fb9-4f72-b603-8092df0599f2"
      },
      "source": [
        "name[6]"
      ],
      "execution_count": null,
      "outputs": [
        {
          "output_type": "execute_result",
          "data": {
            "application/vnd.google.colaboratory.intrinsic+json": {
              "type": "string"
            },
            "text/plain": [
              "'A'"
            ]
          },
          "metadata": {
            "tags": []
          },
          "execution_count": 2
        }
      ]
    },
    {
      "cell_type": "code",
      "metadata": {
        "colab": {
          "base_uri": "https://localhost:8080/",
          "height": 35
        },
        "id": "wpLUTpTiicI7",
        "outputId": "b6c489f1-ba10-4d9b-b334-add62ca4e0d8"
      },
      "source": [
        "name[-7]"
      ],
      "execution_count": null,
      "outputs": [
        {
          "output_type": "execute_result",
          "data": {
            "application/vnd.google.colaboratory.intrinsic+json": {
              "type": "string"
            },
            "text/plain": [
              "'A'"
            ]
          },
          "metadata": {
            "tags": []
          },
          "execution_count": 3
        }
      ]
    },
    {
      "cell_type": "markdown",
      "metadata": {
        "id": "y-BdBfMNZHuW"
      },
      "source": [
        "Write sytanx to fetch ' '"
      ]
    },
    {
      "cell_type": "code",
      "metadata": {
        "colab": {
          "base_uri": "https://localhost:8080/",
          "height": 35
        },
        "id": "8tTrEMETRVwy",
        "outputId": "31cf1ccf-3420-4d81-e702-9c0134f5fd52"
      },
      "source": [
        "name[5]"
      ],
      "execution_count": null,
      "outputs": [
        {
          "output_type": "execute_result",
          "data": {
            "application/vnd.google.colaboratory.intrinsic+json": {
              "type": "string"
            },
            "text/plain": [
              "' '"
            ]
          },
          "metadata": {
            "tags": []
          },
          "execution_count": 4
        }
      ]
    },
    {
      "cell_type": "code",
      "metadata": {
        "colab": {
          "base_uri": "https://localhost:8080/",
          "height": 35
        },
        "id": "3QiuzPp011HE",
        "outputId": "06816531-1902-4abe-84a9-f277b109efac"
      },
      "source": [
        "name[-8]"
      ],
      "execution_count": null,
      "outputs": [
        {
          "output_type": "execute_result",
          "data": {
            "application/vnd.google.colaboratory.intrinsic+json": {
              "type": "string"
            },
            "text/plain": [
              "' '"
            ]
          },
          "metadata": {
            "tags": []
          },
          "execution_count": 5
        }
      ]
    },
    {
      "cell_type": "markdown",
      "metadata": {
        "id": "GtX-XU1sb_Lv"
      },
      "source": [
        "Write sytanx to fetch 'South' by postive indexing"
      ]
    },
    {
      "cell_type": "code",
      "metadata": {
        "colab": {
          "base_uri": "https://localhost:8080/",
          "height": 35
        },
        "id": "Jgh-o951cO9Z",
        "outputId": "f2f1b136-879b-44df-9bcf-4a2640638a88"
      },
      "source": [
        "name[:5:]"
      ],
      "execution_count": null,
      "outputs": [
        {
          "output_type": "execute_result",
          "data": {
            "application/vnd.google.colaboratory.intrinsic+json": {
              "type": "string"
            },
            "text/plain": [
              "'South'"
            ]
          },
          "metadata": {
            "tags": []
          },
          "execution_count": 7
        }
      ]
    },
    {
      "cell_type": "code",
      "metadata": {
        "colab": {
          "base_uri": "https://localhost:8080/",
          "height": 35
        },
        "id": "KC5Uk9A_kjSp",
        "outputId": "279ab31b-7cad-4bb1-b217-052603820a01"
      },
      "source": [
        "name[0:5:1]"
      ],
      "execution_count": null,
      "outputs": [
        {
          "output_type": "execute_result",
          "data": {
            "application/vnd.google.colaboratory.intrinsic+json": {
              "type": "string"
            },
            "text/plain": [
              "'South'"
            ]
          },
          "metadata": {
            "tags": []
          },
          "execution_count": 8
        }
      ]
    },
    {
      "cell_type": "code",
      "metadata": {
        "colab": {
          "base_uri": "https://localhost:8080/",
          "height": 35
        },
        "id": "qNSSD_rFkm2Y",
        "outputId": "14bc441c-bb0a-4f4a-cb57-73cf222938d0"
      },
      "source": [
        "name[0:5:]"
      ],
      "execution_count": null,
      "outputs": [
        {
          "output_type": "execute_result",
          "data": {
            "application/vnd.google.colaboratory.intrinsic+json": {
              "type": "string"
            },
            "text/plain": [
              "'South'"
            ]
          },
          "metadata": {
            "tags": []
          },
          "execution_count": 9
        }
      ]
    },
    {
      "cell_type": "markdown",
      "metadata": {
        "id": "ufFGScC9d7BE"
      },
      "source": [
        "Write sytanx to fetch 'South' by negative indexing"
      ]
    },
    {
      "cell_type": "code",
      "metadata": {
        "colab": {
          "base_uri": "https://localhost:8080/",
          "height": 35
        },
        "id": "sRfD2jlId584",
        "outputId": "5903cb2b-9ec4-4110-c3d2-b07fe3abca9a"
      },
      "source": [
        "name[-13:-8:1]"
      ],
      "execution_count": null,
      "outputs": [
        {
          "output_type": "execute_result",
          "data": {
            "application/vnd.google.colaboratory.intrinsic+json": {
              "type": "string"
            },
            "text/plain": [
              "'South'"
            ]
          },
          "metadata": {
            "tags": []
          },
          "execution_count": 10
        }
      ]
    },
    {
      "cell_type": "markdown",
      "metadata": {
        "id": "MKCkXc43eOjR"
      },
      "source": [
        "Write sytanx to fetch 'America' by postive indexing"
      ]
    },
    {
      "cell_type": "code",
      "metadata": {
        "colab": {
          "base_uri": "https://localhost:8080/",
          "height": 35
        },
        "id": "LE56jc-eeUTY",
        "outputId": "fa9a5cdb-7cab-4223-8851-a592dab4ec75"
      },
      "source": [
        "name[6::]"
      ],
      "execution_count": null,
      "outputs": [
        {
          "output_type": "execute_result",
          "data": {
            "application/vnd.google.colaboratory.intrinsic+json": {
              "type": "string"
            },
            "text/plain": [
              "'America'"
            ]
          },
          "metadata": {
            "tags": []
          },
          "execution_count": 11
        }
      ]
    },
    {
      "cell_type": "markdown",
      "metadata": {
        "id": "dUNgVRuLegr1"
      },
      "source": [
        "Write sytanx to fetch 'America' by negative indexing"
      ]
    },
    {
      "cell_type": "code",
      "metadata": {
        "id": "ZaHpYVrbtjdi",
        "colab": {
          "base_uri": "https://localhost:8080/",
          "height": 35
        },
        "outputId": "03f9d1f5-78ad-44c7-bf02-846434d450f9"
      },
      "source": [
        "name[-7::]"
      ],
      "execution_count": null,
      "outputs": [
        {
          "output_type": "execute_result",
          "data": {
            "application/vnd.google.colaboratory.intrinsic+json": {
              "type": "string"
            },
            "text/plain": [
              "'America'"
            ]
          },
          "metadata": {
            "tags": []
          },
          "execution_count": 12
        }
      ]
    },
    {
      "cell_type": "code",
      "metadata": {
        "id": "D4MhNY-R5CSh"
      },
      "source": [
        "a= [2,4,6,7,8,9,1,3]"
      ],
      "execution_count": null,
      "outputs": []
    },
    {
      "cell_type": "code",
      "metadata": {
        "colab": {
          "base_uri": "https://localhost:8080/"
        },
        "id": "PLW7IDr05Fjw",
        "outputId": "2c648e73-686a-4bea-c671-2176cb72ac71"
      },
      "source": [
        "a[:3:]"
      ],
      "execution_count": null,
      "outputs": [
        {
          "output_type": "execute_result",
          "data": {
            "text/plain": [
              "[2, 4, 6]"
            ]
          },
          "metadata": {
            "tags": []
          },
          "execution_count": 14
        }
      ]
    },
    {
      "cell_type": "markdown",
      "metadata": {
        "id": "vhkIhlVJU-sj"
      },
      "source": [
        "##Palindrome : A word,phrase or number that reads the same forward and backward\r\n",
        "###Python program to check if a string is palindrome or not\r\n",
        "input : civic |     output : yes\r\n",
        "\r\n",
        "input : refer   |   output : yes\r\n",
        "\r\n",
        "input: harish    |  output : no"
      ]
    },
    {
      "cell_type": "code",
      "metadata": {
        "colab": {
          "base_uri": "https://localhost:8080/"
        },
        "id": "yy7qFSjOfzui",
        "outputId": "a0d94f5b-f024-4aa5-e1ff-3899a2dfea3b"
      },
      "source": [
        "name = input(\"Enter a name: \")\r\n",
        "name = name.lower()\r\n",
        "reversed_name = name[::-1]\r\n",
        "if name==reversed_name:\r\n",
        "  print(\"yes\")\r\n",
        "else:\r\n",
        "  print('no')"
      ],
      "execution_count": null,
      "outputs": [
        {
          "output_type": "stream",
          "text": [
            "Enter a name: Civic\n",
            "yes\n"
          ],
          "name": "stdout"
        }
      ]
    },
    {
      "cell_type": "markdown",
      "metadata": {
        "id": "teJZqOrSRoOW"
      },
      "source": [
        "# if-else Implementation"
      ]
    },
    {
      "cell_type": "code",
      "metadata": {
        "id": "sb4V2YEK_-01",
        "colab": {
          "base_uri": "https://localhost:8080/"
        },
        "outputId": "3e0728ac-7761-461d-e9ab-f75b1e15236d"
      },
      "source": [
        "if 2>3:\r\n",
        "  if 2>6:\r\n",
        "    print(\"Task1\")\r\n",
        "  else:\r\n",
        "    print(\"Task2\")\r\n",
        "else:\r\n",
        "  print(\"Task3\")"
      ],
      "execution_count": null,
      "outputs": [
        {
          "output_type": "stream",
          "text": [
            "Task2\n"
          ],
          "name": "stdout"
        }
      ]
    },
    {
      "cell_type": "code",
      "metadata": {
        "colab": {
          "base_uri": "https://localhost:8080/"
        },
        "id": "GzMzxIwe_vKz",
        "outputId": "99f02176-c375-4984-8daa-9adae369d0d3"
      },
      "source": [
        "if True:\r\n",
        "  print(\"Task1\")\r\n",
        "else:\r\n",
        "  print(\"Task2\")"
      ],
      "execution_count": null,
      "outputs": [
        {
          "output_type": "stream",
          "text": [
            "Task1\n"
          ],
          "name": "stdout"
        }
      ]
    },
    {
      "cell_type": "markdown",
      "metadata": {
        "id": "UDDhhIZkjPgw"
      },
      "source": [
        "\r\n",
        "##Python Program To Calculate Electricity Bill\r\n",
        "### Charges\r\n",
        "\r\n",
        "1 - 100 unit : Rs 1.5/unit\r\n",
        "\r\n",
        "101-200 unit : Rs 2.5/unit\r\n",
        "\r\n",
        "201-300 unit : Rs 4/unit\r\n",
        "\r\n",
        "Above 300 : fixed amount--> 2500"
      ]
    },
    {
      "cell_type": "code",
      "metadata": {
        "colab": {
          "base_uri": "https://localhost:8080/"
        },
        "id": "ItQ73ZPOlfrg",
        "outputId": "2638e92f-50cc-4f3d-c912-df7bb6007183"
      },
      "source": [
        "units= int(input(\"Enter the units consumed: \"))\r\n",
        "\r\n",
        "if (units>0 and units<=100):\r\n",
        "  amount = units*1.5\r\n",
        "elif (units>100 and units<=200):\r\n",
        "  amount = (100*1.5) + (units-100)*2.5\r\n",
        "elif (units>201 and units<=300):\r\n",
        "  amount = (100*1.5) + (100*2.5) +(units-200)*4\r\n",
        "elif (units>300):\r\n",
        "  amount = 2500\r\n",
        "else:\r\n",
        "  amount = 0\r\n",
        "\r\n",
        "print(\"\\nElectricity Bill Amount: {0} and you need to submit before 10th of {1} before {2}\".format(amount,month,time))\r\n"
      ],
      "execution_count": null,
      "outputs": [
        {
          "output_type": "stream",
          "text": [
            "Enter the units consumed: 150\n",
            "\n",
            "Electricity Bill Amount: 275.0 and you need to submit before 10th of December before 12:00:00PM\n"
          ],
          "name": "stdout"
        }
      ]
    },
    {
      "cell_type": "code",
      "metadata": {
        "colab": {
          "base_uri": "https://localhost:8080/"
        },
        "id": "82gZr0psx2Cq",
        "outputId": "52e0c5d8-59c7-4714-ef5e-596f2bc37866"
      },
      "source": [
        "for i in range(0,2):\r\n",
        "  print('Hi')\r\n",
        "  for j in range(0,3):\r\n",
        "    print('Hello')\r\n",
        "    "
      ],
      "execution_count": null,
      "outputs": [
        {
          "output_type": "stream",
          "text": [
            "Hi\n",
            "Hello\n",
            "Hello\n",
            "Hello\n",
            "Hi\n",
            "Hello\n",
            "Hello\n",
            "Hello\n"
          ],
          "name": "stdout"
        }
      ]
    }
  ]
}