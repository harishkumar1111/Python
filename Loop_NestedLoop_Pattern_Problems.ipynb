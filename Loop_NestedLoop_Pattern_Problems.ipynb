{
  "nbformat": 4,
  "nbformat_minor": 0,
  "metadata": {
    "colab": {
      "name": "Loop_NestedLoop_Pattern_Problems.ipynb",
      "provenance": [],
      "collapsed_sections": []
    },
    "kernelspec": {
      "name": "python3",
      "display_name": "Python 3"
    }
  },
  "cells": [
    {
      "cell_type": "markdown",
      "metadata": {
        "id": "mZr6GjfufA9t"
      },
      "source": [
        "#Practic Question-1\r\n",
        "Print First 10 natural numbers using For loop"
      ]
    },
    {
      "cell_type": "code",
      "metadata": {
        "id": "4DcWSg1bedXg",
        "colab": {
          "base_uri": "https://localhost:8080/"
        },
        "outputId": "f062523e-9428-4a7e-85cb-56fb27dd460a"
      },
      "source": [
        "for i in range(1,11):\r\n",
        "  print(i)\r\n"
      ],
      "execution_count": null,
      "outputs": [
        {
          "output_type": "stream",
          "text": [
            "1\n",
            "2\n",
            "3\n",
            "4\n",
            "5\n",
            "6\n",
            "7\n",
            "8\n",
            "9\n",
            "10\n"
          ],
          "name": "stdout"
        }
      ]
    },
    {
      "cell_type": "markdown",
      "metadata": {
        "id": "u7ryWsP9falY"
      },
      "source": [
        "#Practice Question-2\r\n",
        "for a given list having integer values, odd values should be replace by its square\r\n",
        "\r\n",
        "Example:\r\n",
        "  Given list: [2,3,4,3,6,7,9,1,3]\r\n",
        "  \r\n",
        "  output: [2,9,4,9,6,49,81,1,9]"
      ]
    },
    {
      "cell_type": "code",
      "metadata": {
        "id": "d2V1KPb2fXB0",
        "colab": {
          "base_uri": "https://localhost:8080/"
        },
        "outputId": "4d389e46-a3c2-4a86-dfd7-2d7ee647164c"
      },
      "source": [
        "num_list= [2,3,4,3,6]\r\n",
        "output_list = []\r\n",
        "\r\n",
        "for i in num_list:\r\n",
        "  if i%2==0:\r\n",
        "    output_list.append(i)\r\n",
        "  else:\r\n",
        "    output_list.append(i**2)\r\n",
        "  \r\n",
        "print(output_list)\r\n"
      ],
      "execution_count": null,
      "outputs": [
        {
          "output_type": "stream",
          "text": [
            "[2, 9, 4, 9, 6]\n"
          ],
          "name": "stdout"
        }
      ]
    },
    {
      "cell_type": "markdown",
      "metadata": {
        "id": "Z33sYeUjg1MA"
      },
      "source": [
        "# Practice Question-3\r\n",
        "For a given list of itmes , count the items present in fruits list\r\n",
        "\r\n",
        "sample input: ['chair','table','mango','banana','book','carrot']\r\n",
        "\r\n",
        "fruits_list : ['apple','mango','cherry','banana','orange']\r\n",
        "\r\n",
        "output:\r\n",
        "2"
      ]
    },
    {
      "cell_type": "code",
      "metadata": {
        "colab": {
          "base_uri": "https://localhost:8080/"
        },
        "id": "d0VXv4NYNOq6",
        "outputId": "405beee2-c649-46b7-bb42-a951e6580f53"
      },
      "source": [
        "input_list = ['chair','table','mango','banana','book','carrot']\r\n",
        "fruits_list = ['apple','mango','cherry','banana','orange']\r\n",
        "count =0\r\n",
        "for i in input_list:\r\n",
        "  if i in fruits_list:\r\n",
        "    count=count+1\r\n",
        "\r\n",
        "\r\n",
        "print(count)\r\n",
        "\r\n",
        "\r\n",
        "\r\n"
      ],
      "execution_count": null,
      "outputs": [
        {
          "output_type": "stream",
          "text": [
            "2\n"
          ],
          "name": "stdout"
        }
      ]
    },
    {
      "cell_type": "code",
      "metadata": {
        "colab": {
          "base_uri": "https://localhost:8080/"
        },
        "id": "VRyL8zIOJYkb",
        "outputId": "6590771a-8e2c-449f-a3c9-c2165cf57c80"
      },
      "source": [
        "#using List comprehension\r\n",
        "input_list = ['chair','table','mango','banana','book','carrot']\r\n",
        "fruits_list = ['apple','mango','cherry','banana','orange']\r\n",
        "\r\n",
        "len([1 for i in input_list if i in fruits_list ])"
      ],
      "execution_count": null,
      "outputs": [
        {
          "output_type": "execute_result",
          "data": {
            "text/plain": [
              "2"
            ]
          },
          "metadata": {
            "tags": []
          },
          "execution_count": 4
        }
      ]
    },
    {
      "cell_type": "markdown",
      "metadata": {
        "id": "VpyDdnSNrKG_"
      },
      "source": [
        "#Loop Example-1\r\n",
        "write code to draw left triangle star pattern\r\n",
        "\r\n",
        "![image.png](data:image/png;base64,iVBORw0KGgoAAAANSUhEUgAAAIcAAABoCAYAAADb9eNdAAADaklEQVR4Ae2dQWpUURBFsx8zEHoV7iQOXIILMLoCwTUI6gIEN6DdbsCp4jyzEsTQP9DXybuVX/XeCQR+/qPrV517aBq6IFfBDwQEgStxn9sQCORAAkkAOSQaDpADByQB5JBoOEAOHJAEkEOi4QA5cEASQA6JhgPkwAFJADkkGg6QAwckAeSQaDhADhyQBJBDouHAJ8fX23jxHaAzEUCOmdI0zzIsx49XN/Hud0Tcv3P8/BAvP/4yt0m5PQgMyxFxirfX13E4HP7+Pj28ji97TMIz7QQMckTcvX8ezz6d4vPNEz532CPar6BFjuPx+G+CU9y++bbfNDzZSsAih7UjipUhgBxloqjXCHLUy6RMR8hRJop6jSBHvUzKdIQcZaKo1why1MukTEfIUSaKeo0gR71MynSEHGWiqNeIT477b2VHZnTUGHk+r31AADke4OCPLYFhORz7HI4a26G49hAYlsOzz8FOiCdObxWDHJ59DnZCvME6qlnkcOxzOGo4gFDjTMAix7kcVzMRQI6Z0jTPghxmoDOVQ46Z0jTPghxmoDOVQ46Z0jTPghxmoDOVQ46Z0jTPghxmoDOVQ46Z0jTP4pPDsYtRpYYZctdyyNE1uUfoe1gOxy5GlRqPwLvVI4blqLPPwU6I2zyDHHX2OdgJ8ephkcOxi1Glhhdv72oWOXojoHtFADkUGe7z3yFxQBPgnUOzWf4EOZZXQANADs1m+RPkWF4BDQA5NJvlT5BjeQU0AOTQbJY/8clRZRejSh8TqIUcl0J0CHapbrN7w3JU2cWo0kez/P/b7rAcc+1zsBOytcUgx1z7HOyEnPWwyFFlF6NKH2e8va8scvRGQPeKAHIoMtxnnwMHNAHeOTSb5U+QY3kFNADk0GyWP0GO5RXQAJBDs1n+BDmWV0ADQA7NZvkTnxyOr7lnqeGYo4CayHEphNFwR19/qacd7g3LUWWPokIfjh52cEA+clgO9jm2bOfaBzHIwT7HVo+Z9kEsclTZo6jQh6OHrWx7Xlvk2HMAnp1HADny2LavjBztI8wbADny2LavjBztI8wbADny2LavjBztI8wbADny2LavjBztI8wbADny2LavjBztI8wbADny2LavjBztI8wbADny2LavjBztI8wbADny2LavjBztI8wbADny2Lav/AdXHT5Sm2LkXQAAAABJRU5ErkJggg==)"
      ]
    },
    {
      "cell_type": "code",
      "metadata": {
        "colab": {
          "base_uri": "https://localhost:8080/"
        },
        "id": "0-qQ-n3jpZ-i",
        "outputId": "f7d9a7e9-9200-476f-d56b-4033152e072f"
      },
      "source": [
        "# for loop implementation\r\n",
        "n = int(input(\"Enter the number of row: \"))\r\n",
        "for i in range(1,n+1):\r\n",
        "  print(\"* \"*i)"
      ],
      "execution_count": 1,
      "outputs": [
        {
          "output_type": "stream",
          "text": [
            "Enter the number of row: 6\n",
            "* \n",
            "* * \n",
            "* * * \n",
            "* * * * \n",
            "* * * * * \n",
            "* * * * * * \n"
          ],
          "name": "stdout"
        }
      ]
    },
    {
      "cell_type": "code",
      "metadata": {
        "colab": {
          "base_uri": "https://localhost:8080/"
        },
        "id": "dXIi7ZKNCWqi",
        "outputId": "99a0daea-7a7f-48f4-c3a8-586963cc0467"
      },
      "source": [
        "# while loop Implementation\r\n",
        "n = int(input(\"Enter the number of row: \"))\r\n",
        "i=1\r\n",
        "while i<n+1:\r\n",
        "  print(\"* \"*i)\r\n",
        "  i+=1\r\n"
      ],
      "execution_count": 2,
      "outputs": [
        {
          "output_type": "stream",
          "text": [
            "Enter the number of row: 6\n",
            "* \n",
            "* * \n",
            "* * * \n",
            "* * * * \n",
            "* * * * * \n",
            "* * * * * * \n"
          ],
          "name": "stdout"
        }
      ]
    },
    {
      "cell_type": "markdown",
      "metadata": {
        "id": "1nWR1Xr0tM9k"
      },
      "source": [
        "#Loop example-2\r\n",
        "Write a code to draw right triangle star pattern\r\n",
        "\r\n",
        "\r\n",
        "![image.png](data:image/png;base64,iVBORw0KGgoAAAANSUhEUgAAAGcAAABZCAYAAAAjMTokAAAC/ElEQVR4Ae2cUUocURBF3U/8CMwq3Il+ZAlZQDQrCLgGIXEBQjaQzGQD+U3Iv38lPbSv73tgkKkCL48jDNwap4rb9/RD6MI5C35sEzizdYaxAI7xTQAc4BgnYGyNkwMc4wSMrXFygGOcgLE1Tk41nB/X8eFXzVDg1OS4TQHOloWL+v3pMm7/RcQznD9f4+O3vyl7nJxUfNp8iC/n57Hb7Y6v97ub+K6/PkED54TQXmp5vLuKi/tDPFy+K/m7A5yXkj7h/f1+v3Yd4vrzzxMm9C3A6fOwqoBjhaM3A5w+D6sKOFY4ejPA6fOwqoBjhaM3A5w+D6sKOFY4ejPA6fOwqoBjhaM3A5w+j+2p8vj+a+vnp9Kv/fx/PgecMZxsuNl+8QOcNYzsPibbL0yaBE6LIruPyfY3I00Ap0URkd3HZPvFylECRxLJ7mOy/WIFOGMYbjUnx42I+AGOhOEmgeNGRPwAR8Jwk8BxIyJ+gCNhuEnguBERP8CRMNwkcNyIiJ+54FQ8rs/OyPYDRxIYZTbcbL/4meLkVOxSsjOy/cKkySngRFTsUrIzsv2NSROTwMnvYpZEsvuYbH+jsopp4FTsUrIzsv3TwhkvbIZ6mpMzA4zxGoAzJmJUA8cIxmgFOGMiRjVwjGCMVoAzJmJUA8cIxmgFOGMiRjVwjGCMVnzgVDxqd5hR4WGlBJzxds2Gm+0XP28Op2IP4jCjwoNwOco3h+Oxi1myyO5jsv0jmvD4uvyKPYjDjAoPisjg5ERU7EEcZlR4sIOjhtBbAhYnZ7OD0gSAo2mYaeCYAVE7wNE0zDRwzICoHeBoGmYaOGZA1A5wNA0zDRwzIGqnBk7FY/JZZlRcx0oIOHqrLjobbrZf/KTgVOwwZplRcR3C5ShTcPI7kMVDxR7EYUaFhx5PEk7+f1oWOxV7EIcZFR4UTxpOxQ5jlhkV11EKR4ehaxNIn5xaO0zTBICjaZhp4JgBUTvA0TTMNHDMgKgd4GgaZho4ZkDUDnA0DTMNHDMgaucJekliAnFYfcoAAAAASUVORK5CYII=)"
      ]
    },
    {
      "cell_type": "code",
      "metadata": {
        "colab": {
          "base_uri": "https://localhost:8080/"
        },
        "id": "KYJ6KVslrzmo",
        "outputId": "f4c1eaef-4cc9-497b-bf47-2e67b4175722"
      },
      "source": [
        "n = int(input(\"Enter the number of row: \"))\r\n",
        "for i in range(1,n+1):\r\n",
        "  print(\"  \"*(n-i) + \" *\"*i)\r\n"
      ],
      "execution_count": 6,
      "outputs": [
        {
          "output_type": "stream",
          "text": [
            "Enter the number of row: 5\n",
            "         *\n",
            "       * *\n",
            "     * * *\n",
            "   * * * *\n",
            " * * * * *\n"
          ],
          "name": "stdout"
        }
      ]
    },
    {
      "cell_type": "markdown",
      "metadata": {
        "id": "Epk3vAyxuIjp"
      },
      "source": [
        ""
      ]
    },
    {
      "cell_type": "markdown",
      "metadata": {
        "id": "VIryvXcls1H1"
      },
      "source": [
        "#Loop Example-3\r\n",
        "\r\n",
        "Write code to print half diamond pattern\r\n",
        "\r\n",
        "![image.png](data:image/png;base64,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)"
      ]
    },
    {
      "cell_type": "code",
      "metadata": {
        "id": "_KNKl2NmpdRL",
        "colab": {
          "base_uri": "https://localhost:8080/"
        },
        "outputId": "7fec8c86-cbf3-4907-883b-0114c80b852b"
      },
      "source": [
        "n = int(input(\"Enter the number of row: \"))\r\n",
        "for i in range(1,n+1):\r\n",
        "  print(\" \"*(n-i) + \"* \"*i)"
      ],
      "execution_count": 7,
      "outputs": [
        {
          "output_type": "stream",
          "text": [
            "Enter the number of row: 8\n",
            "       * \n",
            "      * * \n",
            "     * * * \n",
            "    * * * * \n",
            "   * * * * * \n",
            "  * * * * * * \n",
            " * * * * * * * \n",
            "* * * * * * * * \n"
          ],
          "name": "stdout"
        }
      ]
    },
    {
      "cell_type": "markdown",
      "metadata": {
        "id": "ZoW8-3qMwmfH"
      },
      "source": [
        "#Loop Example-4\r\n",
        "write a code to draw full diamond pattern\r\n",
        "\r\n",
        "![image.png](data:image/png;base64,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)"
      ]
    },
    {
      "cell_type": "code",
      "metadata": {
        "colab": {
          "base_uri": "https://localhost:8080/"
        },
        "id": "72AnuO2CvNJT",
        "outputId": "cab803d0-0dec-446d-8bac-35b6288f2d33"
      },
      "source": [
        "n = int(input(\"Enter the number of row: \"))\r\n",
        "for i in range(1,n+1):\r\n",
        "  print(\" \"*(n-i) + \"* \"*i)\r\n",
        "for i in range(n-1,0,-1):\r\n",
        "  print(\" \"*(n-i) +(\"* \"*i))\r\n"
      ],
      "execution_count": 8,
      "outputs": [
        {
          "output_type": "stream",
          "text": [
            "Enter the number of row: 8\n",
            "       * \n",
            "      * * \n",
            "     * * * \n",
            "    * * * * \n",
            "   * * * * * \n",
            "  * * * * * * \n",
            " * * * * * * * \n",
            "* * * * * * * * \n",
            " * * * * * * * \n",
            "  * * * * * * \n",
            "   * * * * * \n",
            "    * * * * \n",
            "     * * * \n",
            "      * * \n",
            "       * \n"
          ],
          "name": "stdout"
        }
      ]
    },
    {
      "cell_type": "markdown",
      "metadata": {
        "id": "NGAwImb6yBCm"
      },
      "source": [
        "# Loop Example - 5\r\n",
        "write a code to draw pascal triangle\r\n",
        "\r\n",
        "![image.png](data:image/png;base64,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)\r\n"
      ]
    },
    {
      "cell_type": "code",
      "metadata": {
        "colab": {
          "base_uri": "https://localhost:8080/"
        },
        "id": "RpKNGzYVVuiC",
        "outputId": "64f3985d-13ea-49a8-f4a6-2b4ee8709d80"
      },
      "source": [
        "n=6\r\n",
        "list1 =[]\r\n",
        "for i in range(n):\r\n",
        "  temp_list= []\r\n",
        "  for j in range(i+1):\r\n",
        "    if j==0 or j==i:\r\n",
        "      temp_list.append(1)\r\n",
        "    else:\r\n",
        "      temp_list.append(list1[i-1][j-1] + list1[i-1][j])\r\n",
        "    \r\n",
        "  list1.append(temp_list)\r\n",
        "\r\n",
        "#print(list1)\r\n",
        "\r\n",
        "for i in range(n):\r\n",
        "  for j in range(n-i-1):\r\n",
        "    print(\" \", end=\"\")\r\n",
        "  for j in range(i+1):\r\n",
        "    print(list1[i][j],end=\" \")\r\n",
        "  print()\r\n",
        " "
      ],
      "execution_count": null,
      "outputs": [
        {
          "output_type": "stream",
          "text": [
            "     1 \n",
            "    1 1 \n",
            "   1 2 1 \n",
            "  1 3 3 1 \n",
            " 1 4 6 4 1 \n",
            "1 5 10 10 5 1 \n"
          ],
          "name": "stdout"
        }
      ]
    }
  ]
}