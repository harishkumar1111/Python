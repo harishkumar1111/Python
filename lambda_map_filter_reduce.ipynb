{
  "nbformat": 4,
  "nbformat_minor": 0,
  "metadata": {
    "colab": {
      "name": "lambda_map_filter_reduce.ipynb",
      "provenance": [],
      "collapsed_sections": []
    },
    "kernelspec": {
      "name": "python3",
      "display_name": "Python 3"
    }
  },
  "cells": [
    {
      "cell_type": "markdown",
      "metadata": {
        "id": "uPwFow8-e3Tb"
      },
      "source": [
        "## Lambda Function\r\n",
        "\r\n",
        "### syntax\r\n",
        "function_name = lambda expression"
      ]
    },
    {
      "cell_type": "code",
      "metadata": {
        "id": "7DXN6ZF0x1r-"
      },
      "source": [
        "#lambda expression for performing square of input\r\n",
        "lmbd_exmp =lambda x: x**2 "
      ],
      "execution_count": 2,
      "outputs": []
    },
    {
      "cell_type": "code",
      "metadata": {
        "id": "VORB9vte5LYb",
        "colab": {
          "base_uri": "https://localhost:8080/"
        },
        "outputId": "cf8e2d2f-a226-4d2f-c0ec-67c135cafd0a"
      },
      "source": [
        "lmbd_exmp(5)"
      ],
      "execution_count": 3,
      "outputs": [
        {
          "output_type": "execute_result",
          "data": {
            "text/plain": [
              "25"
            ]
          },
          "metadata": {
            "tags": []
          },
          "execution_count": 3
        }
      ]
    },
    {
      "cell_type": "code",
      "metadata": {
        "id": "xdN7biFr5haS"
      },
      "source": [
        "#lambda expression for making string in upper case\r\n",
        "lmbd_exmp2=lambda x: x.upper()"
      ],
      "execution_count": 4,
      "outputs": []
    },
    {
      "cell_type": "code",
      "metadata": {
        "colab": {
          "base_uri": "https://localhost:8080/",
          "height": 35
        },
        "id": "p0voLEmpgrBS",
        "outputId": "1b4c9e3b-1a2e-49bb-e53d-501a3025e907"
      },
      "source": [
        "lmbd_exmp2('smith')"
      ],
      "execution_count": 5,
      "outputs": [
        {
          "output_type": "execute_result",
          "data": {
            "application/vnd.google.colaboratory.intrinsic+json": {
              "type": "string"
            },
            "text/plain": [
              "'SMITH'"
            ]
          },
          "metadata": {
            "tags": []
          },
          "execution_count": 5
        }
      ]
    },
    {
      "cell_type": "code",
      "metadata": {
        "id": "EgKDyAmR5yco"
      },
      "source": [
        "#lambda expression for printing value 0 to n-1\r\n",
        "lmbd_exmp3=lambda x: [i for i in range(0,x)]\r\n",
        "                      "
      ],
      "execution_count": 6,
      "outputs": []
    },
    {
      "cell_type": "code",
      "metadata": {
        "id": "mic6bbPg6kON",
        "colab": {
          "base_uri": "https://localhost:8080/"
        },
        "outputId": "ec729e21-c296-459f-f4fe-20cbbb74410f"
      },
      "source": [
        "lmbd_exmp3(3)"
      ],
      "execution_count": 7,
      "outputs": [
        {
          "output_type": "execute_result",
          "data": {
            "text/plain": [
              "[0, 1, 2]"
            ]
          },
          "metadata": {
            "tags": []
          },
          "execution_count": 7
        }
      ]
    },
    {
      "cell_type": "markdown",
      "metadata": {
        "id": "JwvB5JqQnQTJ"
      },
      "source": [
        "#map() function\r\n",
        "It returns a map object(which is an iterator) of the results after applying the given function to each item of a given iterable (list, tuple etc.)\r\n",
        "\r\n",
        "## Syntax\r\n",
        "map(fun, *iter)\r\n",
        "\r\n",
        "## Parameters\r\n",
        "fun : It is a function to which map passes each element of given iterable.\r\n",
        "\r\n",
        "iter : It is a iterable which is to be mapped."
      ]
    },
    {
      "cell_type": "markdown",
      "metadata": {
        "id": "aNyiwrdkixfF"
      },
      "source": [
        "### map example-1\r\n",
        "\r\n",
        "\r\n",
        "input: [1,2,3,4,5,6]\r\n",
        "\r\n",
        "output: ['odd', 'even', 'odd', 'even', 'odd', 'even']"
      ]
    },
    {
      "cell_type": "code",
      "metadata": {
        "colab": {
          "base_uri": "https://localhost:8080/"
        },
        "id": "HnojvsR28kP7",
        "outputId": "0e6522b2-e7dd-4d26-8661-381769b7c570"
      },
      "source": [
        "l= [1,2,3,4,5,6]\r\n",
        "print(list(map(lambda x: \"even\" if x%2==0 else \"odd\",l)))\r\n"
      ],
      "execution_count": 8,
      "outputs": [
        {
          "output_type": "stream",
          "text": [
            "['odd', 'even', 'odd', 'even', 'odd', 'even']\n"
          ],
          "name": "stdout"
        }
      ]
    },
    {
      "cell_type": "markdown",
      "metadata": {
        "id": "7rKvZr7FpcNH"
      },
      "source": [
        "### map example-2\r\n",
        "\r\n",
        "\r\n",
        "input: ['apple', 'banana', 'mango']\r\n",
        "\r\n",
        "output: ['APPLE', 'BANANA', 'MANGO']"
      ]
    },
    {
      "cell_type": "code",
      "metadata": {
        "colab": {
          "base_uri": "https://localhost:8080/"
        },
        "id": "IRXgec4E9f-l",
        "outputId": "b48954e2-b5e1-4864-988f-6895c4fff56e"
      },
      "source": [
        "fruits = ['apple', 'banana', 'mango']\r\n",
        "print(list(map(str.upper,fruits)))"
      ],
      "execution_count": 9,
      "outputs": [
        {
          "output_type": "stream",
          "text": [
            "['APPLE', 'BANANA', 'MANGO']\n"
          ],
          "name": "stdout"
        }
      ]
    },
    {
      "cell_type": "code",
      "metadata": {
        "colab": {
          "base_uri": "https://localhost:8080/"
        },
        "id": "RdIDuwpb925b",
        "outputId": "388f9c9d-8935-442b-bff6-d72207bdfdea"
      },
      "source": [
        "fruits = ['apple', 'banana', 'mango']\r\n",
        "print(list(map(lambda x: x.upper(),fruits)))"
      ],
      "execution_count": 10,
      "outputs": [
        {
          "output_type": "stream",
          "text": [
            "['APPLE', 'BANANA', 'MANGO']\n"
          ],
          "name": "stdout"
        }
      ]
    },
    {
      "cell_type": "markdown",
      "metadata": {
        "id": "ankuuzd1p8Ou"
      },
      "source": [
        "### map example-3\r\n",
        "\r\n",
        "\r\n",
        "input: number1 = [1,2,3,4,5,6],number2 = [1,2,3,4,5]\r\n",
        "\r\n",
        "output: [1, 4, 9, 16, 25]"
      ]
    },
    {
      "cell_type": "code",
      "metadata": {
        "colab": {
          "base_uri": "https://localhost:8080/"
        },
        "id": "PzYxk4Qp-SkP",
        "outputId": "81a41f27-3cce-4f67-fd4f-157a74b8cff7"
      },
      "source": [
        "number1 = [1,2,3,4,5,6]\r\n",
        "number2 = [1,2,3,4,5]\r\n",
        "print(list(map(lambda x,y: x*y, number1,number2)))\r\n"
      ],
      "execution_count": 11,
      "outputs": [
        {
          "output_type": "stream",
          "text": [
            "[1, 4, 9, 16, 25]\n"
          ],
          "name": "stdout"
        }
      ]
    },
    {
      "cell_type": "markdown",
      "metadata": {
        "id": "SE1sUEeDv-A5"
      },
      "source": [
        "# filter() function\r\n",
        "\r\n",
        "## syntax \r\n",
        "filter(function, sequence)\r\n",
        "\r\n",
        "##Parameters:\r\n",
        "function: function that tests if each element of a \r\n",
        "sequence true or not.\r\n",
        "\r\n",
        "sequence: sequence which needs to be filtered, it can \r\n",
        "be sets, lists, tuples, or containers of any iterators.\r\n",
        "Returns:\r\n",
        "\r\n",
        "returns an iterator that is already filtered.\r\n"
      ]
    },
    {
      "cell_type": "markdown",
      "metadata": {
        "id": "s02KRgKApvpC"
      },
      "source": [
        "### filter example-1\r\n",
        "Task to print odd numbers from list\r\n",
        "\r\n",
        "input: [1,2,3,4,5,6]\r\n",
        "\r\n",
        "output: [1, 3, 5]"
      ]
    },
    {
      "cell_type": "code",
      "metadata": {
        "colab": {
          "base_uri": "https://localhost:8080/"
        },
        "id": "A493AjOOAQRc",
        "outputId": "cd3bbbd9-b00a-418d-b14c-0bbbeaeb9ca3"
      },
      "source": [
        "emp= [1,2,3,4,5,6]\r\n",
        "list(filter(lambda x : x%2!=0,emp))"
      ],
      "execution_count": 12,
      "outputs": [
        {
          "output_type": "execute_result",
          "data": {
            "text/plain": [
              "[1, 3, 5]"
            ]
          },
          "metadata": {
            "tags": []
          },
          "execution_count": 12
        }
      ]
    },
    {
      "cell_type": "markdown",
      "metadata": {
        "id": "kp6VBKSRxH-8"
      },
      "source": [
        "### filter example-2\r\n",
        "Task to print palindrome from list\r\n",
        "\r\n",
        "input: ['radar','madam','rewire','1331']\r\n",
        "\r\n",
        "output: ['radar', 'madam', '1331']"
      ]
    },
    {
      "cell_type": "code",
      "metadata": {
        "colab": {
          "base_uri": "https://localhost:8080/"
        },
        "id": "tFtRdAt0Ah40",
        "outputId": "a7221e60-6cbe-4bd5-91d3-d21c79c17d7a"
      },
      "source": [
        "names = ['radar','madam','rewire','1331']\r\n",
        "\r\n",
        "list(filter(lambda x:x==x[::-1],names))"
      ],
      "execution_count": 13,
      "outputs": [
        {
          "output_type": "execute_result",
          "data": {
            "text/plain": [
              "['radar', 'madam', '1331']"
            ]
          },
          "metadata": {
            "tags": []
          },
          "execution_count": 13
        }
      ]
    },
    {
      "cell_type": "markdown",
      "metadata": {
        "id": "56_zNMMplpVB"
      },
      "source": [
        "### filter example-3\r\n",
        "Task to print elements greater than 3 from input list\r\n",
        "input: [1,2,3,4,5,6]\r\n",
        "\r\n",
        "output: [4, 5, 6]"
      ]
    },
    {
      "cell_type": "code",
      "metadata": {
        "colab": {
          "base_uri": "https://localhost:8080/"
        },
        "id": "FydKy8ee_Tap",
        "outputId": "89f8b9a7-da68-4016-a14f-2a5b3543290e"
      },
      "source": [
        "list_exm= [1,2,3,4,5,6]\r\n",
        "list(filter(lambda x: x>3,list_exm))"
      ],
      "execution_count": 14,
      "outputs": [
        {
          "output_type": "execute_result",
          "data": {
            "text/plain": [
              "[4, 5, 6]"
            ]
          },
          "metadata": {
            "tags": []
          },
          "execution_count": 14
        }
      ]
    },
    {
      "cell_type": "markdown",
      "metadata": {
        "id": "CfVfcxpQqOIu"
      },
      "source": [
        "#reduce() function\r\n",
        "Syntax : reduce(fun,seq)\r\n",
        "\r\n",
        "it is used to apply a particular function passed in its argument to all of the list elements mentioned in the sequence passed along.This function is defined in “functools” module.\r\n",
        "\r\n",
        "Working : \r\n",
        "\r\n",
        "At first step, first two elements of sequence are picked and the result is obtained.\r\n",
        "Next step is to apply the same function to the previously attained result and the number just succeeding the second element and the result is again stored.\r\n",
        "This process continues till no more elements are left in the container.\r\n",
        "The final returned result is returned and printed on console.\r\n"
      ]
    },
    {
      "cell_type": "markdown",
      "metadata": {
        "id": "l29mFDZ1BtwF"
      },
      "source": [
        "###example-1\r\n",
        "\r\n",
        "concatenate character to single word\r\n",
        "\r\n",
        "l= ['r','a','d','a','r']\r\n",
        "\r\n",
        "output : 'radar'"
      ]
    },
    {
      "cell_type": "code",
      "metadata": {
        "colab": {
          "base_uri": "https://localhost:8080/",
          "height": 35
        },
        "id": "613uYxbgDDNs",
        "outputId": "fc2ff6ed-1398-44a9-aff7-f58c8e50ad40"
      },
      "source": [
        "from functools import reduce\r\n",
        "l= ['r','a','d','a','r']\r\n",
        "reduce(lambda x,y: x+y,l)"
      ],
      "execution_count": 15,
      "outputs": [
        {
          "output_type": "execute_result",
          "data": {
            "application/vnd.google.colaboratory.intrinsic+json": {
              "type": "string"
            },
            "text/plain": [
              "'radar'"
            ]
          },
          "metadata": {
            "tags": []
          },
          "execution_count": 15
        }
      ]
    },
    {
      "cell_type": "markdown",
      "metadata": {
        "id": "iiOHU2OADAGo"
      },
      "source": [
        "###example-2\r\n",
        "\r\n",
        "print highest number form the list\r\n",
        "\r\n",
        "l= [1,2,3,4,5]\r\n",
        "\r\n",
        "output : 5"
      ]
    },
    {
      "cell_type": "code",
      "metadata": {
        "colab": {
          "base_uri": "https://localhost:8080/"
        },
        "id": "3tnzSFzfDvf1",
        "outputId": "e8dfe973-8362-44eb-bad4-612b9be419e1"
      },
      "source": [
        "l= [1,2,3,4,5]\r\n",
        "reduce(lambda x,y: x if x>y else y,l)"
      ],
      "execution_count": 16,
      "outputs": [
        {
          "output_type": "execute_result",
          "data": {
            "text/plain": [
              "5"
            ]
          },
          "metadata": {
            "tags": []
          },
          "execution_count": 16
        }
      ]
    },
    {
      "cell_type": "markdown",
      "metadata": {
        "id": "x0HHnbYhFT3F"
      },
      "source": [
        "###example-3\r\n",
        "\r\n",
        "print summation of the list\r\n",
        "\r\n",
        "numbers = [1,2,3,4,5]\r\n",
        "\r\n",
        "output : 15"
      ]
    },
    {
      "cell_type": "code",
      "metadata": {
        "colab": {
          "base_uri": "https://localhost:8080/"
        },
        "id": "ugO0YGEITN59",
        "outputId": "7728aeb2-ec2a-4b36-e35a-44910e69c648"
      },
      "source": [
        "from functools import reduce\r\n",
        "import operator\r\n",
        "\r\n",
        "numbers = [1,2,3,4,5]\r\n",
        "result = reduce(operator.add,numbers)\r\n",
        "print(result)"
      ],
      "execution_count": 17,
      "outputs": [
        {
          "output_type": "stream",
          "text": [
            "15\n"
          ],
          "name": "stdout"
        }
      ]
    },
    {
      "cell_type": "markdown",
      "metadata": {
        "id": "row8GBrnGxor"
      },
      "source": [
        "###example-3\r\n",
        "\r\n",
        "print multiplication of the list\r\n",
        "\r\n",
        "numbers = [1,2,3,4,5]\r\n",
        "\r\n",
        "output : 120"
      ]
    },
    {
      "cell_type": "code",
      "metadata": {
        "colab": {
          "base_uri": "https://localhost:8080/"
        },
        "id": "UeuWh9VoGlv4",
        "outputId": "d0016b7e-6b68-4e20-d2f3-5de8ec936c9e"
      },
      "source": [
        "from functools import reduce\r\n",
        "import operator\r\n",
        "\r\n",
        "numbers = [1,2,3,4,5]\r\n",
        "result = reduce(operator.mul,numbers)\r\n",
        "print(result)"
      ],
      "execution_count": 18,
      "outputs": [
        {
          "output_type": "stream",
          "text": [
            "120\n"
          ],
          "name": "stdout"
        }
      ]
    }
  ]
}
