{
  "nbformat": 4,
  "nbformat_minor": 0,
  "metadata": {
    "colab": {
      "name": "functions_basics_example.ipynb",
      "provenance": [],
      "collapsed_sections": []
    },
    "kernelspec": {
      "name": "python3",
      "display_name": "Python 3"
    }
  },
  "cells": [
    {
      "cell_type": "markdown",
      "metadata": {
        "id": "YA7MiaqnY3Sn"
      },
      "source": [
        "# Function in Python\r\n",
        "A function is a block of code which only runs when it is called.\r\n",
        "\r\n",
        "You can pass data, known as argument, into a function.\r\n",
        "\r\n",
        "A function can return data as a result.\r\n",
        "\r\n",
        "a function is defined using the def keyword\r\n"
      ]
    },
    {
      "cell_type": "markdown",
      "metadata": {
        "id": "lGIivzbWZbrN"
      },
      "source": [
        "##Type-1\r\n",
        "Simple function without any argument and return statement"
      ]
    },
    {
      "cell_type": "code",
      "metadata": {
        "id": "fTBsmIZVeVr-"
      },
      "source": [
        "def func1():\r\n",
        "  print(\"this is my 1st function\")\r\n",
        "\r\n"
      ],
      "execution_count": null,
      "outputs": []
    },
    {
      "cell_type": "code",
      "metadata": {
        "colab": {
          "base_uri": "https://localhost:8080/"
        },
        "id": "fbIZlmX0RfdE",
        "outputId": "3286c598-99b5-4074-8f3e-6777edce4b21"
      },
      "source": [
        "#calling function func1()\r\n",
        "func1()"
      ],
      "execution_count": null,
      "outputs": [
        {
          "output_type": "stream",
          "text": [
            "this is my 1st function\n"
          ],
          "name": "stdout"
        }
      ]
    },
    {
      "cell_type": "markdown",
      "metadata": {
        "id": "aLlu6yqiaXoh"
      },
      "source": [
        "## Type-2\r\n",
        "Function with one argument but without return statement"
      ]
    },
    {
      "cell_type": "code",
      "metadata": {
        "id": "jQKohgTQRnNo"
      },
      "source": [
        "def func2(name):\r\n",
        "  print(\"Hello \",name)"
      ],
      "execution_count": null,
      "outputs": []
    },
    {
      "cell_type": "code",
      "metadata": {
        "colab": {
          "base_uri": "https://localhost:8080/"
        },
        "id": "kMmJ3v9VSC4G",
        "outputId": "15848b0e-ad3a-4837-e0fe-c8e794c633e1"
      },
      "source": [
        "# calling function with argument value \"Varun\". argument name will take value \"Varun\" and pass in function\r\n",
        "func2(\"Varun\")"
      ],
      "execution_count": null,
      "outputs": [
        {
          "output_type": "stream",
          "text": [
            "Hello  Varun\n"
          ],
          "name": "stdout"
        }
      ]
    },
    {
      "cell_type": "markdown",
      "metadata": {
        "id": "bLj4TuJnfYF1"
      },
      "source": [
        "##Type-3\r\n",
        "Function with two argument but without return statement"
      ]
    },
    {
      "cell_type": "code",
      "metadata": {
        "id": "QV4jtP3XSM0u"
      },
      "source": [
        "def func3(fname,lname):\r\n",
        "  name = fname + \" \" + lname\r\n",
        "  print(name)"
      ],
      "execution_count": null,
      "outputs": []
    },
    {
      "cell_type": "markdown",
      "metadata": {
        "id": "q9iyntu6fxHQ"
      },
      "source": [
        "## Type-4\r\n",
        "### Function with arbitrary arguments (use of * with argument name)\r\n",
        "Arbitrary Arguments, *args\r\n",
        "If you do not know how many arguments that will be passed into your function, add a * before the parameter name in the function definition.\r\n",
        "\r\n",
        "This way the function will receive a tuple of arguments, and can access the items accordingly:"
      ]
    },
    {
      "cell_type": "code",
      "metadata": {
        "id": "hP-fjvw6Uc4r"
      },
      "source": [
        "def func4(*name):\r\n",
        "  fname = name[0]\r\n",
        "  lname = name[1]\r\n",
        "  \r\n",
        "  print(fname)\r\n",
        "  print(lname)"
      ],
      "execution_count": null,
      "outputs": []
    },
    {
      "cell_type": "code",
      "metadata": {
        "id": "sfvWX04bYYXT"
      },
      "source": [
        "func4(\"ravi\",\"kumar\",'bagalore','sharama','TCS')"
      ],
      "execution_count": null,
      "outputs": []
    },
    {
      "cell_type": "markdown",
      "metadata": {
        "id": "KBQS2LsqhPq2"
      },
      "source": [
        "##Type-5\r\n",
        "Calling function with argument name with crossponding values"
      ]
    },
    {
      "cell_type": "code",
      "metadata": {
        "id": "7TefIvA3V8yL"
      },
      "source": [
        "def func5(fname,lastname,city):\r\n",
        "  print(\"employe: \" + fname+\" \"+ lastname+\" \" +\"city: \"+city)"
      ],
      "execution_count": null,
      "outputs": []
    },
    {
      "cell_type": "code",
      "metadata": {
        "id": "bk_YXEQjZDip"
      },
      "source": [
        "func5(fname=\"Rahul\",lastname=\"kumar\",city=\"bangalore\")"
      ],
      "execution_count": null,
      "outputs": []
    },
    {
      "cell_type": "markdown",
      "metadata": {
        "id": "zHmg0R7zhiSK"
      },
      "source": [
        "#Type-6 Function with ** with argument name\r\n",
        "Arbitrary Keyword Arguments, **kwargs\r\n",
        "If you do not know how many keyword arguments that will be passed into your function, add two asterisk: ** before the parameter name in the function definition.\r\n",
        "\r\n",
        "This way the function will receive a dictionary of arguments, and can access the items accordingly"
      ]
    },
    {
      "cell_type": "code",
      "metadata": {
        "id": "X5pQoFpiXJvw"
      },
      "source": [
        "#args will become a dictionary that argument name and crossponding value\r\n",
        "def func6(**args):\r\n",
        "  print(\"employe: \" + args['fname']+\" \"+ args['lastname'])\r\n"
      ],
      "execution_count": null,
      "outputs": []
    },
    {
      "cell_type": "code",
      "metadata": {
        "colab": {
          "base_uri": "https://localhost:8080/"
        },
        "id": "GK3VGhCOW28L",
        "outputId": "0572d7bb-9a15-4c79-8deb-727a63672f91"
      },
      "source": [
        "func6(fname=\"Rahul\",lastname=\"kumar\")"
      ],
      "execution_count": null,
      "outputs": [
        {
          "output_type": "stream",
          "text": [
            "employe: Rahul kumar\n"
          ],
          "name": "stdout"
        }
      ]
    },
    {
      "cell_type": "markdown",
      "metadata": {
        "id": "DFAglZmPjxZq"
      },
      "source": [
        "#Type -7\r\n",
        "Function with default argument\r\n",
        "If we call the function without argument, it uses the default value"
      ]
    },
    {
      "cell_type": "code",
      "metadata": {
        "id": "Vekrg7t2Ut6a"
      },
      "source": [
        "def func7(fname,country=\"India\"):\r\n",
        "  print(fname + \" is from \" + country)\r\n"
      ],
      "execution_count": 1,
      "outputs": []
    },
    {
      "cell_type": "code",
      "metadata": {
        "colab": {
          "base_uri": "https://localhost:8080/"
        },
        "id": "2Z3J6_oca9Nm",
        "outputId": "d674b996-30a4-4920-f0b7-ac7e8c61b1d4"
      },
      "source": [
        "func7(\"Harish\")"
      ],
      "execution_count": 2,
      "outputs": [
        {
          "output_type": "stream",
          "text": [
            "Harish is from India\n"
          ],
          "name": "stdout"
        }
      ]
    },
    {
      "cell_type": "markdown",
      "metadata": {
        "id": "AIwTHvSHl7fA"
      },
      "source": [
        "#Type-8\r\n",
        "To let a function return a value, use the return statement"
      ]
    },
    {
      "cell_type": "code",
      "metadata": {
        "id": "7eylzs42bhiZ"
      },
      "source": [
        "def func8(x):\r\n",
        "  return x*x\r\n"
      ],
      "execution_count": 5,
      "outputs": []
    },
    {
      "cell_type": "code",
      "metadata": {
        "id": "Hcji8lRacQcK",
        "colab": {
          "base_uri": "https://localhost:8080/"
        },
        "outputId": "43eb8601-7b10-431f-be34-4ba52ed225f5"
      },
      "source": [
        "func8(5)"
      ],
      "execution_count": 6,
      "outputs": [
        {
          "output_type": "execute_result",
          "data": {
            "text/plain": [
              "25"
            ]
          },
          "metadata": {
            "tags": []
          },
          "execution_count": 6
        }
      ]
    }
  ]
}